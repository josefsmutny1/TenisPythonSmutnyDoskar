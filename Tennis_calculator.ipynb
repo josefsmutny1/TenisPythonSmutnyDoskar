{
 "cells": [
  {
   "cell_type": "markdown",
   "metadata": {},
   "source": [
    "# Python project\n",
    "## Tennis calculator"
   ]
  },
  {
   "cell_type": "markdown",
   "metadata": {},
   "source": [
    "Firstly we will import important libraries for our project."
   ]
  },
  {
   "cell_type": "code",
   "execution_count": 22,
   "metadata": {},
   "outputs": [],
   "source": [
    "import requests\n",
    "from bs4 import BeautifulSoup\n",
    "import pandas as pd\n",
    "import numpy as np\n",
    "from time import sleep\n",
    "from tqdm import tqdm\n",
    "import re"
   ]
  },
  {
   "cell_type": "markdown",
   "metadata": {},
   "source": [
    "Let's define functions that will help us with scraping our data."
   ]
  },
  {
   "cell_type": "code",
   "execution_count": 23,
   "metadata": {},
   "outputs": [],
   "source": [
    "def getSoup(link):###vytvoříme funkci, která získá z URL adresy text\n",
    "    sleep(0.05)\n",
    "    r = requests.get(link)\n",
    "    return BeautifulSoup(r.text,'lxml')"
   ]
  },
  {
   "cell_type": "code",
   "execution_count": 24,
   "metadata": {},
   "outputs": [],
   "source": [
    "def getAllLinks(link):###najdeme tabulku linků\n",
    "    soup = getSoup(link)\n",
    "    table = soup.find('table', {'id':'reportable'})\n",
    "    tds = table.findAll('td', {'align':'left'})\n",
    "    a = [td.find('a') for td in tds]\n",
    "    res = [i for i in a if i]\n",
    "    return res"
   ]
  },
  {
   "cell_type": "markdown",
   "metadata": {},
   "source": [
    "We create the list of links to individual player statistics. "
   ]
  },
  {
   "cell_type": "code",
   "execution_count": 25,
   "metadata": {},
   "outputs": [],
   "source": [
    "links = getAllLinks('http://tennisabstract.com/reports/atpRankings.html')###získáme všechny linky"
   ]
  },
  {
   "cell_type": "code",
   "execution_count": 26,
   "metadata": {},
   "outputs": [],
   "source": [
    "b = [str(links[i])for i in range(len(links))]\n",
    "c = [i.replace('\"', '!') for i in b]\n",
    "d = [o.split(\"!\") for o in c]\n",
    "flinks = [d[p][1] for p in range(len(d))]"
   ]
  },
  {
   "cell_type": "markdown",
   "metadata": {},
   "source": [
    "Now it's time to create a list of player names and choose the amount of players involved in our further calculations."
   ]
  },
  {
   "cell_type": "code",
   "execution_count": 27,
   "metadata": {},
   "outputs": [],
   "source": [
    "Namesss = [flink.replace('http://www.tennisabstract.com/cgi-bin/player.cgi?p=', '') for flink in flinks]###získáme jména\n",
    "Names=Namesss[:150]"
   ]
  },
  {
   "cell_type": "raw",
   "metadata": {},
   "source": [
    "Then we create a list containing data of interest for each player."
   ]
  },
  {
   "cell_type": "code",
   "execution_count": 29,
   "metadata": {
    "scrolled": true
   },
   "outputs": [],
   "source": [
    "finallist = []###udeláme list, ve kterém jsou listy z údaji jednotlivých hráčů\n",
    "ranx = 0\n",
    "for nam in Names:\n",
    "    ranx += 1\n",
    "    soop = getSoup('http://www.minorleaguesplits.com/tennisabstract/cgi-bin/frags/'+nam+'.js')\n",
    "    playerlist = []\n",
    "    name_str = nam\n",
    "    name_list = []\n",
    "    name_list = re.findall('[A-Z][^A-Z]*', name_str)\n",
    "    namstr = ' '.join(map(str, name_list))\n",
    "    playerlist.append(namstr)\n",
    "    playerlist.append(ranx)\n",
    "    if (soop.find('table', {'id':'tour-years'})):\n",
    "        statstable = soop.find('table', {'id':'tour-years'})\n",
    "        statsdfs = pd.read_html(str(statstable), index_col = 0)\n",
    "        statsdf = statsdfs[0]\n",
    "        playerlist.append(statsdf.at['Career', 'Hld%'])\n",
    "        playerlist.append(statsdf.at['Career', 'Brk%'])\n",
    "    else:\n",
    "        playerlist.append(\"No data\")\n",
    "        playerlist.append(\"No data\")\n",
    "    finallist.append(playerlist)"
   ]
  },
  {
   "cell_type": "markdown",
   "metadata": {},
   "source": [
    "Further we proceed with creating a dataframe from the data we got in previous step."
   ]
  },
  {
   "cell_type": "code",
   "execution_count": 32,
   "metadata": {
    "scrolled": true
   },
   "outputs": [
    {
     "data": {
      "text/html": [
       "<div>\n",
       "<style scoped>\n",
       "    .dataframe tbody tr th:only-of-type {\n",
       "        vertical-align: middle;\n",
       "    }\n",
       "\n",
       "    .dataframe tbody tr th {\n",
       "        vertical-align: top;\n",
       "    }\n",
       "\n",
       "    .dataframe thead th {\n",
       "        text-align: right;\n",
       "    }\n",
       "</style>\n",
       "<table border=\"1\" class=\"dataframe\">\n",
       "  <thead>\n",
       "    <tr style=\"text-align: right;\">\n",
       "      <th></th>\n",
       "      <th>Name</th>\n",
       "      <th>Rank</th>\n",
       "      <th>Hld%</th>\n",
       "      <th>Brk%</th>\n",
       "    </tr>\n",
       "  </thead>\n",
       "  <tbody>\n",
       "    <tr>\n",
       "      <th>Novak Djokovic</th>\n",
       "      <td>Novak Djokovic</td>\n",
       "      <td>1</td>\n",
       "      <td>85.8%</td>\n",
       "      <td>32.0%</td>\n",
       "    </tr>\n",
       "    <tr>\n",
       "      <th>Rafael Nadal</th>\n",
       "      <td>Rafael Nadal</td>\n",
       "      <td>2</td>\n",
       "      <td>85.9%</td>\n",
       "      <td>33.5%</td>\n",
       "    </tr>\n",
       "    <tr>\n",
       "      <th>Dominic Thiem</th>\n",
       "      <td>Dominic Thiem</td>\n",
       "      <td>3</td>\n",
       "      <td>83.1%</td>\n",
       "      <td>23.8%</td>\n",
       "    </tr>\n",
       "    <tr>\n",
       "      <th>Daniil Medvedev</th>\n",
       "      <td>Daniil Medvedev</td>\n",
       "      <td>4</td>\n",
       "      <td>82.5%</td>\n",
       "      <td>25.6%</td>\n",
       "    </tr>\n",
       "    <tr>\n",
       "      <th>Roger Federer</th>\n",
       "      <td>Roger Federer</td>\n",
       "      <td>5</td>\n",
       "      <td>88.8%</td>\n",
       "      <td>26.7%</td>\n",
       "    </tr>\n",
       "    <tr>\n",
       "      <th>...</th>\n",
       "      <td>...</td>\n",
       "      <td>...</td>\n",
       "      <td>...</td>\n",
       "      <td>...</td>\n",
       "    </tr>\n",
       "    <tr>\n",
       "      <th>Francisco Cerundolo</th>\n",
       "      <td>Francisco Cerundolo</td>\n",
       "      <td>146</td>\n",
       "      <td>61.5%</td>\n",
       "      <td>26.9%</td>\n",
       "    </tr>\n",
       "    <tr>\n",
       "      <th>Oscar Otte</th>\n",
       "      <td>Oscar Otte</td>\n",
       "      <td>147</td>\n",
       "      <td>80.6%</td>\n",
       "      <td>20.0%</td>\n",
       "    </tr>\n",
       "    <tr>\n",
       "      <th>Marc Andrea Huesler</th>\n",
       "      <td>Marc Andrea Huesler</td>\n",
       "      <td>148</td>\n",
       "      <td>82.0%</td>\n",
       "      <td>19.6%</td>\n",
       "    </tr>\n",
       "    <tr>\n",
       "      <th>Ivo Karlovic</th>\n",
       "      <td>Ivo Karlovic</td>\n",
       "      <td>149</td>\n",
       "      <td>92.0%</td>\n",
       "      <td>8.5%</td>\n",
       "    </tr>\n",
       "    <tr>\n",
       "      <th>Mohamed Safwat</th>\n",
       "      <td>Mohamed Safwat</td>\n",
       "      <td>150</td>\n",
       "      <td>74.2%</td>\n",
       "      <td>19.2%</td>\n",
       "    </tr>\n",
       "  </tbody>\n",
       "</table>\n",
       "<p>150 rows × 4 columns</p>\n",
       "</div>"
      ],
      "text/plain": [
       "                                    Name  Rank   Hld%   Brk%\n",
       "Novak Djokovic            Novak Djokovic     1  85.8%  32.0%\n",
       "Rafael Nadal                Rafael Nadal     2  85.9%  33.5%\n",
       "Dominic Thiem              Dominic Thiem     3  83.1%  23.8%\n",
       "Daniil Medvedev          Daniil Medvedev     4  82.5%  25.6%\n",
       "Roger Federer              Roger Federer     5  88.8%  26.7%\n",
       "...                                  ...   ...    ...    ...\n",
       "Francisco Cerundolo  Francisco Cerundolo   146  61.5%  26.9%\n",
       "Oscar Otte                    Oscar Otte   147  80.6%  20.0%\n",
       "Marc Andrea Huesler  Marc Andrea Huesler   148  82.0%  19.6%\n",
       "Ivo Karlovic                Ivo Karlovic   149  92.0%   8.5%\n",
       "Mohamed Safwat            Mohamed Safwat   150  74.2%  19.2%\n",
       "\n",
       "[150 rows x 4 columns]"
      ]
     },
     "execution_count": 32,
     "metadata": {},
     "output_type": "execute_result"
    }
   ],
   "source": [
    "finalldf = pd.DataFrame(finallist, columns = ['Name', 'Rank', 'Hld%', 'Brk%'])###uděláme dataframe\n",
    "for i in range(len(Names)):###pomocný dataframe, který nám pomáhá při hledání hráče u tenisové tří dy tenisový hráč    \n",
    "    finalldf.rename(columns={},index={i:finalldf.at[i,\"Name\"]},inplace=True)\n",
    "finalldf"
   ]
  },
  {
   "cell_type": "markdown",
   "metadata": {},
   "source": [
    "## Graphs\n",
    "Following graphs show us the dependence between hold (or break) percentage in % and player's rank."
   ]
  },
  {
   "cell_type": "code",
   "execution_count": 33,
   "metadata": {},
   "outputs": [
    {
     "data": {
      "image/png": "[encoded data removed]",
      "text/plain": [
       "<Figure size 432x288 with 1 Axes>"
      ]
     },
     "metadata": {
      "needs_background": "light"
     },
     "output_type": "display_data"
    }
   ],
   "source": [
    "%matplotlib inline\n",
    "import matplotlib.pyplot as plt\n",
    "rank=finalldf['Rank']###uděláme graf, který ukazuje závislost mezi rankingem a pravděpodobností udržení servisu daného hráče\n",
    "hold=[float(finallist[i][2].replace(\"%\",\"\")) for i in range(len(finallist))]\n",
    "plt.plot(rank,hold)\n",
    "plt.xlabel('Rank')\n",
    "plt.ylabel('Hold percentage in %')\n",
    "plt.show()"
   ]
  },
  {
   "cell_type": "code",
   "execution_count": 34,
   "metadata": {},
   "outputs": [
    {
     "data": {
      "image/png": "[encoded data removed]",
      "text/plain": [
       "<Figure size 432x288 with 1 Axes>"
      ]
     },
     "metadata": {
      "needs_background": "light"
     },
     "output_type": "display_data"
    }
   ],
   "source": [
    "%matplotlib inline\n",
    "import matplotlib.pyplot as plt\n",
    "rank=finalldf['Rank']###uděláme graf, který ukazuje závislost mezi rankingem a pravděpodobností breaknutí servisu soupeře\n",
    "breaky=[float(finallist[i][3].replace(\"%\",\"\")) for i in range(len(finallist))]\n",
    "plt.plot(rank,breaky)\n",
    "plt.xlabel('Rank')\n",
    "plt.ylabel('Break percentage in %')\n",
    "plt.show()"
   ]
  },
  {
   "cell_type": "markdown",
   "metadata": {},
   "source": [
    "Let's define class Tennisplayer, that helps us with getting data from our dataframe."
   ]
  },
  {
   "cell_type": "code",
   "execution_count": 18,
   "metadata": {},
   "outputs": [],
   "source": [
    "class Tennisplayer:     ###definujeme si třídu tenisového hráče\n",
    "    def __init__(self,name):\n",
    "        self.name = name\n",
    "        \n",
    "    def ranking(self,name):\n",
    "        return finalldf.at[name,\"Rank\"]\n",
    "    def servis(self,name):\n",
    "        return finalldf.at[name,\"Hld%\"]\n",
    "    def returny(self,name):\n",
    "        return finalldf.at[name,\"Brk%\"]"
   ]
  },
  {
   "cell_type": "markdown",
   "metadata": {},
   "source": [
    "## Functions for our calculations\n",
    "Now we will define some essential functions to help us get the results."
   ]
  },
  {
   "cell_type": "code",
   "execution_count": 35,
   "metadata": {},
   "outputs": [],
   "source": [
    "def nodata(vstup):           ###u některých hráčů nemáme data, a tak chceme ověřit že náš hráč je má\n",
    "    if vstup==\"No data\":\n",
    "        Entry.insert(E4,0,\"No data\")\n",
    "        print(\"No data\")\n",
    "        Entry.insert(E5,0,\"No data\")\n",
    "        print(\"No data\")\n",
    "        return None\n",
    "    \n",
    "def numerizace(vstup):      ###chceme to dostat do formátu čísla na výpočty, takže procento tam nechce\n",
    "    return float(vstup[:-1])\n",
    "\n",
    "def elo(vstup):             ###nadefinujeme si náš elo žebříček, aby se nemohlo stát, že hráč s vyšším rankingem\n",
    "    if vstup>200:           ###nebude favoritem utkáním\n",
    "        vstup+=30\n",
    "    if vstup>80 and vstup<201:\n",
    "        vstup+=25\n",
    "    if vstup>50 and vstup<81:\n",
    "        vstup+=21 \n",
    "    if vstup>30 and vstup<51:\n",
    "        vstup+=17 \n",
    "    if vstup>16 and vstup<31:\n",
    "        vstup+=13\n",
    "    if vstup>8 and vstup<17:\n",
    "        vstup+=10\n",
    "    if vstup>2 and vstup<9:\n",
    "        vstup+=7        \n",
    "    if vstup>0 and vstup<3:\n",
    "        vstup+=4\n",
    "    return vstup \n",
    "\n",
    "def differ(B,C):          ###spočítáme přibližný rozdíl mezi pravděpodobnostmi na servisu podle jejich ela\n",
    "    P1=C/(B+C)\n",
    "    P2=B/(B+C)\n",
    "    diffskill=P1-P2\n",
    "    diffskill=diffskill if diffskill>0 else -diffskill\n",
    "    diff=0\n",
    "    mini=min(P1,P2)\n",
    "    diff=0.4-(((2*mini)**0.7)*0.4)\n",
    "    return diff\n",
    "\n",
    "def parametrcalc(a,b,c,d,Surface,P1,P2,diff):   ###výpočet- vstupní hodnoty jsou jejich statistiky ze servisu, rankingu,\n",
    "    avgserve=(a+b)/2                            ###returnu a povrchu na kterém hrají, ve výpočtu zavádíme parametry aby naše\n",
    "    avgreturn=(c+d)/2                           ### zhruba odpovídaly realitě\n",
    "    eqserve=avgserve/(avgserve+avgreturn)\n",
    "    eqreturn=avgreturn/(avgserve+avgreturn)\n",
    "    serpar=eqserve**0.7\n",
    "    retpar=eqreturn**0.7\n",
    "    PS1,PS2,PR1,PR2,K,L=0,0,0,0,0,0\n",
    "    if P1>P2:\n",
    "        PS1=eqserve+(diff*(retpar/(retpar+serpar)))\n",
    "        PS2=eqserve-(diff*(serpar/(retpar+serpar)))\n",
    "        PR1=1-PS2\n",
    "        PR2=1-PS1\n",
    "    else:\n",
    "        PS1=eqserve-(diff*(serpar/(retpar+serpar)))\n",
    "        PS2=eqserve+(diff*(retpar/(retpar+serpar)))\n",
    "        PR1=1-PS2\n",
    "        PR2=1-PS1        \n",
    "  \n",
    "    if Surface ==\"Clay\":\n",
    "        K=PS1\n",
    "        L=PS2  \n",
    "        PS1+=-(K)*(L/10)\n",
    "        PS2+=-(K)*(L/10)\n",
    "        PR1=1-PS2\n",
    "        PR2=1-PS1\n",
    "        result=[PS1,PS2,PR1,PR2]\n",
    "        return result\n",
    "    if Surface ==\"Hard\":\n",
    "        result=[PS1,PS2,PR1,PR2]\n",
    "        return result\n",
    "    if Surface==\"Grass\":\n",
    "        K=PS1\n",
    "        L=PS2                 \n",
    "        PS1=K+((1-K)*(1/5))\n",
    "        PS2=L+((1-L)*(1/5))\n",
    "        PR1=1-PS2\n",
    "        PR2=1-PS1\n",
    "        result=[PS1,PS2,PR1,PR2]\n",
    "        return result\n",
    "    else:\n",
    "        result=[PS1,PS2,PR1,PR2]\n",
    "        return result"
   ]
  },
  {
   "cell_type": "markdown",
   "metadata": {},
   "source": [
    "## Calculator of probability of serve win in 1v1 matchup between specific players\n",
    "After starting the calculator, you will be asked to write exact names of two specific players (from the dataframe) and the surface on which the match will be played.\n",
    "You will get the resulting probabilities that they will hold their serve in one game."
   ]
  },
  {
   "cell_type": "code",
   "execution_count": 36,
   "metadata": {},
   "outputs": [],
   "source": [
    "#tři vstupy, výstupy pravděpodobnost výhry servisů(returnu)\n",
    "import tkinter\n",
    "from tkinter import *\n",
    "from tkinter import messagebox\n",
    "def proces1():    ###používáme naše předdefinované funkce k celému procesu výpočtu\n",
    "    Tennisplayer1,Tennisplayer2,Surface=Entry.get(E1),Entry.get(E2),Entry.get(E3)  ###naše vstupní hodnoty\n",
    "    h1,h2=Tennisplayer(Tennisplayer1),Tennisplayer(Tennisplayer2)\n",
    "    Tennisplayer1ranking,Tennisplayer2ranking=h1.ranking(Tennisplayer1),h2.ranking(Tennisplayer2)\n",
    "    Tennisplayer1servis,Tennisplayer2servis=h1.servis(Tennisplayer1),h2.servis(Tennisplayer1)\n",
    "    nodata(Tennisplayer1servis)\n",
    "    nodata(Tennisplayer2servis)\n",
    "    Tennisplayer1returny=h1.returny(Tennisplayer1) \n",
    "    Tennisplayer2returny=h2.returny(Tennisplayer2)\n",
    "    nodata(Tennisplayer1returny)\n",
    "    nodata(Tennisplayer2returny)\n",
    "       \n",
    "    Tennisplayer1servis=numerizace(Tennisplayer1servis)\n",
    "    Tennisplayer2servis=numerizace(Tennisplayer2servis)\n",
    "    Tennisplayer1returny=numerizace(Tennisplayer1returny)\n",
    "    Tennisplayer2returny=numerizace(Tennisplayer2returny)\n",
    "        \n",
    "    B=elo(Tennisplayer1ranking)\n",
    "    C=elo(Tennisplayer2ranking)\n",
    "    P1=C/(B+C)\n",
    "    P2=B/(B+C)\n",
    "    diff=differ(B,C)\n",
    "    \n",
    "    result=parametrcalc(Tennisplayer1servis,Tennisplayer2servis,Tennisplayer1returny,Tennisplayer2returny,Surface,P1,P2,diff)\n",
    "    \n",
    "    Entry.insert(E4,0,result[0])  ###spočítali jsme výsledky a díky tomu máme naší odhadovanou pravděpodobnost na výhry\n",
    "    Entry.insert(E5,0,result[1])  ### servisu při podání hráče proti jinmu hráči  \n",
    "    \n",
    "top = tkinter.Tk()                ###uděláme si takovou menší \"aplikaci\" na výpočet\n",
    "L1 = Label(top, text=\"Tennis calculator\",).grid(row=0,column=1)\n",
    "L2 = Label(top, text=\"Tennis player 1\",).grid(row=1,column=0)\n",
    "L3 = Label(top, text=\"Tennis player 2\",).grid(row=2,column=0)\n",
    "L4 = Label(top, text=\"Surface\",).grid(row=3,column=0)\n",
    "L5 = Label(top, text=\"P(Player 1 wins his serve)\",).grid(row=4,column=0)\n",
    "L6 = Label(top, text=\"P(Player 2 wins his serve)\",).grid(row=5,column=0)\n",
    "E1 = Entry(top, bd =5)\n",
    "E1.grid(row=1,column=1)\n",
    "E2 = Entry(top, bd =5)\n",
    "E2.grid(row=2,column=1)\n",
    "E3 = Entry(top, bd =5)\n",
    "E3.grid(row=3,column=1)\n",
    "E4 = Entry(top, bd =5)\n",
    "E4.grid(row=4,column=1)\n",
    "E5 = Entry(top, bd =5)\n",
    "E5.grid(row=5,column=1)\n",
    "B=Button(top, text =\"Submit\",command = proces1).grid(row=6,column=1,)\n",
    "\n",
    "top.mainloop()"
   ]
  },
  {
   "cell_type": "markdown",
   "metadata": {},
   "source": [
    "## Calculator of probability of different results in BO3 in 1v1 matchup between specific players\n",
    "(You do need to win two sets to win the match)\n",
    "After starting the calculator, you will be asked to write exact names of two specific players (from the dataframe) and the surface on which the match will be played.\n",
    "You will get the resulting probabilities of each of the different results."
   ]
  },
  {
   "cell_type": "code",
   "execution_count": 37,
   "metadata": {},
   "outputs": [],
   "source": [
    "#tři vstupy, výstupy pravděpodobnost výhry zápasu s různým skóre\n",
    "import tkinter\n",
    "from tkinter import *\n",
    "from tkinter import messagebox\n",
    "import scipy.special\n",
    "def proces2():\n",
    "    Tennisplayer1,Tennisplayer2,Surface=Entry.get(E1),Entry.get(E2),Entry.get(E3)\n",
    "    h1,h2=Tennisplayer(Tennisplayer1),Tennisplayer(Tennisplayer2)\n",
    "    Tennisplayer1ranking,Tennisplayer2ranking=h1.ranking(Tennisplayer1),h2.ranking(Tennisplayer2)\n",
    "    Tennisplayer1servis,Tennisplayer2servis=h1.servis(Tennisplayer1),h2.servis(Tennisplayer1)\n",
    "    nodata(Tennisplayer1servis)\n",
    "    nodata(Tennisplayer2servis)\n",
    "    Tennisplayer1returny=h1.returny(Tennisplayer1) \n",
    "    Tennisplayer2returny=h2.returny(Tennisplayer2)\n",
    "    nodata(Tennisplayer1returny)\n",
    "    nodata(Tennisplayer2returny)\n",
    "       \n",
    "    Tennisplayer1servis=numerizace(Tennisplayer1servis)\n",
    "    Tennisplayer2servis=numerizace(Tennisplayer2servis)\n",
    "    Tennisplayer1returny=numerizace(Tennisplayer1returny)\n",
    "    Tennisplayer2returny=numerizace(Tennisplayer2returny)\n",
    "        \n",
    "    B=elo(Tennisplayer1ranking)\n",
    "    C=elo(Tennisplayer2ranking)\n",
    "    P1=C/(B+C)\n",
    "    P2=B/(B+C)\n",
    "    diff=differ(B,C)\n",
    "    \n",
    "    result=parametrcalc(Tennisplayer1servis,Tennisplayer2servis,Tennisplayer1returny,Tennisplayer2returny,Surface,P1,P2,diff)    \n",
    "    \n",
    "###z pravděpodobnosti servisu na pravděpodobnost setu\n",
    "    PS1,PS2=result[0],result[1]\n",
    "    G,H,J=0,0,0\n",
    "    T1=0.5-((PS2-PS1)/2)\n",
    "    T2=0.5+((PS2-PS1)/2)\n",
    "    for k in range(0,6):       ###používáme binomickou větu a pomocí pravděpodobností na výhru gemu při podání počítáme\n",
    "        serve1=(PS1**k)*((1-PS1)**((5-k)))*scipy.special.binom(5,k)  ###pravděpodobnost na výhru setu\n",
    "        for y in range(0,6):\n",
    "            serve2=(PS2**y)*((1-PS2)**int((5-y)))*scipy.special.binom(5,y)\n",
    "            if k+(5-y)>5:\n",
    "                G+=serve1*serve2\n",
    "            if k+(5-y)<5:\n",
    "                H+=serve1*serve2\n",
    "            if k+(5-y)==5:\n",
    "                J+=serve1*serve2   \n",
    "            \n",
    "    G+=J*PS1*((1-PS2))\n",
    "    H+=J*PS2*((1-PS1))\n",
    "\n",
    "    G+=(J*PS1*PS2*T1)+(J*(1-PS2)*(1-PS1)*T1)\n",
    "    H+=(J*PS1*PS2*T2)+(J*(1-PS2)*(1-PS1)*T2)   ###projeli jsme všechny různé scénáře a přesně spořítali pravděpodobnost \n",
    "                                               ### za předpokladu, že víme pravdědobnosti na výhry gemu\n",
    "    dvanula=G*G    ###jednoduchý výpočet, z pravděpodobnosti výhry setu uděláme pravděpodobnosti na výhru v zápase\n",
    "    dvajedna=G*H*2*G\n",
    "    jednadva=G*H*2*H\n",
    "    nuladva=H*H\n",
    "    \n",
    "    Entry.insert(E4,0,dvanula)\n",
    "    Entry.insert(E5,0,dvajedna)\n",
    "    Entry.insert(E6,0,jednadva)\n",
    "    Entry.insert(E7,0,nuladva)        \n",
    "    \n",
    "top = tkinter.Tk()\n",
    "L1 = Label(top, text=\"Tennis calculator\",).grid(row=0,column=1)\n",
    "L2 = Label(top, text=\"Tennis player 1\",).grid(row=1,column=0)\n",
    "L3 = Label(top, text=\"Tennis player 2\",).grid(row=2,column=0)\n",
    "L4 = Label(top, text=\"Surface\",).grid(row=3,column=0)\n",
    "L5 = Label(top, text=\"P(Player 1 wins 2:0)\",).grid(row=4,column=0)\n",
    "L6 = Label(top, text=\"P(Player 1 wins 2:1)\",).grid(row=5,column=0)\n",
    "L7 = Label(top, text=\"P(Player 2 wins 2:0)\",).grid(row=6,column=0)\n",
    "L8 = Label(top, text=\"P(Player 2 wins 2:1)\",).grid(row=7,column=0)\n",
    "E1 = Entry(top, bd =5)\n",
    "E1.grid(row=1,column=1)\n",
    "E2 = Entry(top, bd =5)\n",
    "E2.grid(row=2,column=1)\n",
    "E3 = Entry(top, bd =5)\n",
    "E3.grid(row=3,column=1)\n",
    "E4 = Entry(top, bd =5)\n",
    "E4.grid(row=4,column=1)\n",
    "E5 = Entry(top, bd =5)\n",
    "E5.grid(row=5,column=1)\n",
    "E6 = Entry(top, bd =5)\n",
    "E6.grid(row=6,column=1)\n",
    "E7 = Entry(top, bd =5)\n",
    "E7.grid(row=7,column=1)\n",
    "B=Button(top, text =\"Submit\",command = proces2).grid(row=8,column=1,)\n",
    "\n",
    "top.mainloop()"
   ]
  }
 ],
 "metadata": {
  "kernelspec": {
   "display_name": "Python 3",
   "language": "python",
   "name": "python3"
  },
  "language_info": {
   "codemirror_mode": {
    "name": "ipython",
    "version": 3
   },
   "file_extension": ".py",
   "mimetype": "text/x-python",
   "name": "python",
   "nbconvert_exporter": "python",
   "pygments_lexer": "ipython3",
   "version": "3.8.3"
  }
 },
 "nbformat": 4,
 "nbformat_minor": 4
}
